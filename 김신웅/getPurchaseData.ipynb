{
 "cells": [
  {
   "cell_type": "code",
   "execution_count": 1,
   "metadata": {},
   "outputs": [],
   "source": [
    "import pandas as pd\n",
    "import numpy as np"
   ]
  },
  {
   "cell_type": "code",
   "execution_count": 5,
   "metadata": {},
   "outputs": [],
   "source": [
    "df1 = pd.read_csv(r\"C:\\Users\\kshw1\\Desktop\\Study\\중급프로그래밍\\project_git\\data\\2010~2024매매\\2010매매.csv\",encoding='cp949')\n",
    "df2 = pd.read_csv(r\"C:\\Users\\kshw1\\Desktop\\Study\\중급프로그래밍\\project_git\\data\\2010~2024매매\\2011매매.csv\",encoding='cp949')\n",
    "df3 = pd.read_csv(r\"C:\\Users\\kshw1\\Desktop\\Study\\중급프로그래밍\\project_git\\data\\2010~2024매매\\2012매매.csv\",encoding='cp949')\n",
    "df4 = pd.read_csv(r\"C:\\Users\\kshw1\\Desktop\\Study\\중급프로그래밍\\project_git\\data\\2010~2024매매\\2013매매.csv\",encoding='cp949')\n",
    "df5 = pd.read_csv(r\"C:\\Users\\kshw1\\Desktop\\Study\\중급프로그래밍\\project_git\\data\\2010~2024매매\\2014매매.csv\",encoding='cp949')\n",
    "df6 = pd.read_csv(r\"C:\\Users\\kshw1\\Desktop\\Study\\중급프로그래밍\\project_git\\data\\2010~2024매매\\2015매매.csv\",encoding='cp949')\n",
    "df7 = pd.read_csv(r\"C:\\Users\\kshw1\\Desktop\\Study\\중급프로그래밍\\project_git\\data\\2010~2024매매\\2016매매.csv\",encoding='cp949')\n",
    "df8 = pd.read_csv(r\"C:\\Users\\kshw1\\Desktop\\Study\\중급프로그래밍\\project_git\\data\\2010~2024매매\\2017매매.csv\",encoding='cp949')\n",
    "df9 = pd.read_csv(r\"C:\\Users\\kshw1\\Desktop\\Study\\중급프로그래밍\\project_git\\data\\2010~2024매매\\2018매매.csv\",encoding='cp949')\n",
    "df10 = pd.read_csv(r\"C:\\Users\\kshw1\\Desktop\\Study\\중급프로그래밍\\project_git\\data\\2010~2024매매\\2019매매.csv\",encoding='cp949')\n",
    "df11 = pd.read_csv(r\"C:\\Users\\kshw1\\Desktop\\Study\\중급프로그래밍\\project_git\\data\\2010~2024매매\\2020매매.csv\",encoding='cp949')\n",
    "df12 = pd.read_csv(r\"C:\\Users\\kshw1\\Desktop\\Study\\중급프로그래밍\\project_git\\data\\2010~2024매매\\2021매매.csv\",encoding='cp949')\n",
    "df13 = pd.read_csv(r\"C:\\Users\\kshw1\\Desktop\\Study\\중급프로그래밍\\project_git\\data\\2010~2024매매\\2022매매.csv\",encoding='cp949')\n",
    "df14 = pd.read_csv(r\"C:\\Users\\kshw1\\Desktop\\Study\\중급프로그래밍\\project_git\\data\\2010~2024매매\\2023매매.csv\",encoding='cp949')\n",
    "df15 = pd.read_csv(r\"C:\\Users\\kshw1\\Desktop\\Study\\중급프로그래밍\\project_git\\data\\2010~2024매매\\2024매매.csv\",encoding='cp949')"
   ]
  },
  {
   "cell_type": "code",
   "execution_count": 6,
   "metadata": {},
   "outputs": [],
   "source": [
    "result = pd.concat([df1,df2,df3,df4,df5,df6,df7,df8,df9,df10,df11,df12,df13,df14,df15])"
   ]
  },
  {
   "cell_type": "code",
   "execution_count": 10,
   "metadata": {},
   "outputs": [],
   "source": [
    "result.to_csv(r'C:\\Users\\kshw1\\Desktop\\Study\\중급프로그래밍\\project_data\\총매매.csv', index=False)"
   ]
  }
 ],
 "metadata": {
  "kernelspec": {
   "display_name": "Python 3",
   "language": "python",
   "name": "python3"
  },
  "language_info": {
   "codemirror_mode": {
    "name": "ipython",
    "version": 3
   },
   "file_extension": ".py",
   "mimetype": "text/x-python",
   "name": "python",
   "nbconvert_exporter": "python",
   "pygments_lexer": "ipython3",
   "version": "3.12.2"
  }
 },
 "nbformat": 4,
 "nbformat_minor": 2
}
