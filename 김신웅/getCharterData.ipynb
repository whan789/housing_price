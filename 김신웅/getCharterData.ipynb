{
 "cells": [
  {
   "cell_type": "code",
   "execution_count": 3,
   "metadata": {},
   "outputs": [],
   "source": [
    "import pandas as pd\n",
    "import numpy as np"
   ]
  },
  {
   "cell_type": "code",
   "execution_count": 9,
   "metadata": {},
   "outputs": [
    {
     "name": "stderr",
     "output_type": "stream",
     "text": [
      "C:\\Users\\kshw1\\AppData\\Local\\Temp\\ipykernel_1208\\2709323048.py:1: DtypeWarning: Columns (11) have mixed types. Specify dtype option on import or set low_memory=False.\n",
      "  df1 = pd.read_csv(r\"C:\\Users\\kshw1\\Desktop\\Study\\중급프로그래밍\\project_git\\data\\2011~2024전월세\\2011전월세.csv\", encoding=\"cp949\")\n",
      "C:\\Users\\kshw1\\AppData\\Local\\Temp\\ipykernel_1208\\2709323048.py:4: DtypeWarning: Columns (11,18) have mixed types. Specify dtype option on import or set low_memory=False.\n",
      "  df4 = pd.read_csv(r\"C:\\Users\\kshw1\\Desktop\\Study\\중급프로그래밍\\project_git\\data\\2011~2024전월세\\2014전월세.csv\", encoding=\"cp949\")\n",
      "C:\\Users\\kshw1\\AppData\\Local\\Temp\\ipykernel_1208\\2709323048.py:5: DtypeWarning: Columns (11) have mixed types. Specify dtype option on import or set low_memory=False.\n",
      "  df5 = pd.read_csv(r\"C:\\Users\\kshw1\\Desktop\\Study\\중급프로그래밍\\project_git\\data\\2011~2024전월세\\2015전월세.csv\", encoding=\"cp949\")\n",
      "C:\\Users\\kshw1\\AppData\\Local\\Temp\\ipykernel_1208\\2709323048.py:6: DtypeWarning: Columns (11,18) have mixed types. Specify dtype option on import or set low_memory=False.\n",
      "  df6 = pd.read_csv(r\"C:\\Users\\kshw1\\Desktop\\Study\\중급프로그래밍\\project_git\\data\\2011~2024전월세\\2016전월세.csv\", encoding=\"cp949\")\n",
      "C:\\Users\\kshw1\\AppData\\Local\\Temp\\ipykernel_1208\\2709323048.py:7: DtypeWarning: Columns (11,18) have mixed types. Specify dtype option on import or set low_memory=False.\n",
      "  df7 = pd.read_csv(r\"C:\\Users\\kshw1\\Desktop\\Study\\중급프로그래밍\\project_git\\data\\2011~2024전월세\\2017전월세.csv\", encoding=\"cp949\")\n",
      "C:\\Users\\kshw1\\AppData\\Local\\Temp\\ipykernel_1208\\2709323048.py:8: DtypeWarning: Columns (11,18) have mixed types. Specify dtype option on import or set low_memory=False.\n",
      "  df8 = pd.read_csv(r\"C:\\Users\\kshw1\\Desktop\\Study\\중급프로그래밍\\project_git\\data\\2011~2024전월세\\2018전월세.csv\", encoding=\"cp949\")\n",
      "C:\\Users\\kshw1\\AppData\\Local\\Temp\\ipykernel_1208\\2709323048.py:9: DtypeWarning: Columns (11,18) have mixed types. Specify dtype option on import or set low_memory=False.\n",
      "  df9 = pd.read_csv(r\"C:\\Users\\kshw1\\Desktop\\Study\\중급프로그래밍\\project_git\\data\\2011~2024전월세\\2019전월세.csv\", encoding=\"cp949\")\n",
      "C:\\Users\\kshw1\\AppData\\Local\\Temp\\ipykernel_1208\\2709323048.py:10: DtypeWarning: Columns (11,18) have mixed types. Specify dtype option on import or set low_memory=False.\n",
      "  df10 = pd.read_csv(r\"C:\\Users\\kshw1\\Desktop\\Study\\중급프로그래밍\\project_git\\data\\2011~2024전월세\\2020전월세.csv\", encoding=\"cp949\")\n",
      "C:\\Users\\kshw1\\AppData\\Local\\Temp\\ipykernel_1208\\2709323048.py:11: DtypeWarning: Columns (11,19) have mixed types. Specify dtype option on import or set low_memory=False.\n",
      "  df11 = pd.read_csv(r\"C:\\Users\\kshw1\\Desktop\\Study\\중급프로그래밍\\project_git\\data\\2011~2024전월세\\2021전월세.csv\", encoding=\"cp949\")\n",
      "C:\\Users\\kshw1\\AppData\\Local\\Temp\\ipykernel_1208\\2709323048.py:12: DtypeWarning: Columns (11,19) have mixed types. Specify dtype option on import or set low_memory=False.\n",
      "  df12 = pd.read_csv(r\"C:\\Users\\kshw1\\Desktop\\Study\\중급프로그래밍\\project_git\\data\\2011~2024전월세\\2022전월세.csv\", encoding=\"cp949\")\n",
      "C:\\Users\\kshw1\\AppData\\Local\\Temp\\ipykernel_1208\\2709323048.py:13: DtypeWarning: Columns (11,19) have mixed types. Specify dtype option on import or set low_memory=False.\n",
      "  df13 = pd.read_csv(r\"C:\\Users\\kshw1\\Desktop\\Study\\중급프로그래밍\\project_git\\data\\2011~2024전월세\\2023전월세.csv\", encoding=\"cp949\")\n"
     ]
    }
   ],
   "source": [
    "df1 = pd.read_csv(r\"C:\\Users\\kshw1\\Desktop\\Study\\중급프로그래밍\\project_git\\data\\2011~2024전월세\\2011전월세.csv\", encoding=\"cp949\")\n",
    "df2 = pd.read_csv(r\"C:\\Users\\kshw1\\Desktop\\Study\\중급프로그래밍\\project_git\\data\\2011~2024전월세\\2012전월세.csv\", encoding=\"cp949\")\n",
    "df3 = pd.read_csv(r\"C:\\Users\\kshw1\\Desktop\\Study\\중급프로그래밍\\project_git\\data\\2011~2024전월세\\2013전월세.csv\", encoding=\"cp949\")\n",
    "df4 = pd.read_csv(r\"C:\\Users\\kshw1\\Desktop\\Study\\중급프로그래밍\\project_git\\data\\2011~2024전월세\\2014전월세.csv\", encoding=\"cp949\")\n",
    "df5 = pd.read_csv(r\"C:\\Users\\kshw1\\Desktop\\Study\\중급프로그래밍\\project_git\\data\\2011~2024전월세\\2015전월세.csv\", encoding=\"cp949\")\n",
    "df6 = pd.read_csv(r\"C:\\Users\\kshw1\\Desktop\\Study\\중급프로그래밍\\project_git\\data\\2011~2024전월세\\2016전월세.csv\", encoding=\"cp949\")\n",
    "df7 = pd.read_csv(r\"C:\\Users\\kshw1\\Desktop\\Study\\중급프로그래밍\\project_git\\data\\2011~2024전월세\\2017전월세.csv\", encoding=\"cp949\")\n",
    "df8 = pd.read_csv(r\"C:\\Users\\kshw1\\Desktop\\Study\\중급프로그래밍\\project_git\\data\\2011~2024전월세\\2018전월세.csv\", encoding=\"cp949\")\n",
    "df9 = pd.read_csv(r\"C:\\Users\\kshw1\\Desktop\\Study\\중급프로그래밍\\project_git\\data\\2011~2024전월세\\2019전월세.csv\", encoding=\"cp949\")\n",
    "df10 = pd.read_csv(r\"C:\\Users\\kshw1\\Desktop\\Study\\중급프로그래밍\\project_git\\data\\2011~2024전월세\\2020전월세.csv\", encoding=\"cp949\")\n",
    "df11 = pd.read_csv(r\"C:\\Users\\kshw1\\Desktop\\Study\\중급프로그래밍\\project_git\\data\\2011~2024전월세\\2021전월세.csv\", encoding=\"cp949\")\n",
    "df12 = pd.read_csv(r\"C:\\Users\\kshw1\\Desktop\\Study\\중급프로그래밍\\project_git\\data\\2011~2024전월세\\2022전월세.csv\", encoding=\"cp949\")\n",
    "df13 = pd.read_csv(r\"C:\\Users\\kshw1\\Desktop\\Study\\중급프로그래밍\\project_git\\data\\2011~2024전월세\\2023전월세.csv\", encoding=\"cp949\")\n",
    "df14 = pd.read_csv(r\"C:\\Users\\kshw1\\Desktop\\Study\\중급프로그래밍\\project_git\\data\\2011~2024전월세\\2024전월세.csv\", encoding=\"cp949\")"
   ]
  },
  {
   "cell_type": "code",
   "execution_count": 10,
   "metadata": {},
   "outputs": [],
   "source": [
    "result = pd.concat([df1,df2,df3,df4,df5,df6,df7,df8,df9,df10,df11,df12,df13,df14])"
   ]
  },
  {
   "cell_type": "code",
   "execution_count": 17,
   "metadata": {},
   "outputs": [],
   "source": [
    "result.to_csv(r'C:\\Users\\kshw1\\Desktop\\Study\\중급프로그래밍\\project_data\\총전월세.csv', index=False)"
   ]
  }
 ],
 "metadata": {
  "kernelspec": {
   "display_name": "Python 3",
   "language": "python",
   "name": "python3"
  },
  "language_info": {
   "codemirror_mode": {
    "name": "ipython",
    "version": 3
   },
   "file_extension": ".py",
   "mimetype": "text/x-python",
   "name": "python",
   "nbconvert_exporter": "python",
   "pygments_lexer": "ipython3",
   "version": "3.12.2"
  }
 },
 "nbformat": 4,
 "nbformat_minor": 2
}
